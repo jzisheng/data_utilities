{
 "cells": [
  {
   "cell_type": "code",
   "execution_count": 10,
   "metadata": {},
   "outputs": [],
   "source": [
    "import aug_util as aug\n",
    "import wv_util as wv\n",
    "import matplotlib.pyplot as plt\n",
    "from PIL import Image\n",
    "import numpy as np\n",
    "import csv\n",
    "import tqdm\n",
    "%matplotlib inline"
   ]
  },
  {
   "cell_type": "code",
   "execution_count": 11,
   "metadata": {},
   "outputs": [],
   "source": [
    "fdir = '/data/zjc4/'\n",
    "cdir = '/data/zjc4/chipped/train/'\n",
    "#Load an image\n",
    "chip_name = fdir+'train_images/104.tif'\n",
    "arr = wv.get_image(chip_name)"
   ]
  },
  {
   "cell_type": "code",
   "execution_count": 12,
   "metadata": {},
   "outputs": [
    {
     "name": "stderr",
     "output_type": "stream",
     "text": [
      "\n",
      "  0%|          | 0/601937 [00:00<?, ?it/s]\u001b[A\n",
      "  2%|▏         | 12974/601937 [00:00<00:04, 129738.58it/s]\u001b[A\n",
      "  4%|▍         | 26284/601937 [00:00<00:04, 130728.16it/s]\u001b[A\n",
      "  7%|▋         | 39657/601937 [00:00<00:04, 131614.41it/s]\u001b[A\n",
      "  9%|▉         | 55597/601937 [00:00<00:03, 138874.80it/s]\u001b[A\n",
      " 11%|█▏        | 68067/601937 [00:00<00:03, 134293.85it/s]\u001b[A\n",
      " 14%|█▎        | 81317/601937 [00:00<00:03, 133749.69it/s]\u001b[A\n",
      " 16%|█▌        | 94580/601937 [00:00<00:03, 133410.79it/s]\u001b[A\n",
      " 18%|█▊        | 107908/601937 [00:00<00:03, 133371.18it/s]\u001b[A\n",
      " 20%|██        | 120536/601937 [00:00<00:03, 130583.25it/s]\u001b[A\n",
      " 22%|██▏       | 133111/601937 [00:01<00:03, 123910.86it/s]\u001b[A\n",
      " 24%|██▍       | 145235/601937 [00:01<00:03, 121975.58it/s]\u001b[A\n",
      " 27%|██▋       | 161059/601937 [00:01<00:03, 130977.94it/s]\u001b[A\n",
      " 29%|██▉       | 175426/601937 [00:01<00:03, 134543.18it/s]\u001b[A\n",
      " 31%|███▏      | 188948/601937 [00:01<00:03, 134691.12it/s]\u001b[A\n",
      " 34%|███▍      | 206350/601937 [00:01<00:02, 144486.72it/s]\u001b[A\n",
      " 37%|███▋      | 221032/601937 [00:01<00:02, 132701.34it/s]\u001b[A\n",
      " 39%|███▉      | 234654/601937 [00:01<00:02, 132955.35it/s]\u001b[A\n",
      " 41%|████▏     | 248484/601937 [00:01<00:02, 134512.93it/s]\u001b[A\n",
      " 44%|████▎     | 262260/601937 [00:01<00:02, 135468.81it/s]\u001b[A\n",
      " 46%|████▌     | 275933/601937 [00:02<00:02, 135542.98it/s]\u001b[A\n",
      " 48%|████▊     | 289576/601937 [00:02<00:02, 134714.38it/s]\u001b[A\n",
      " 50%|█████     | 303111/601937 [00:02<00:02, 134183.11it/s]\u001b[A\n",
      " 53%|█████▎    | 316574/601937 [00:02<00:02, 133580.92it/s]\u001b[A\n",
      " 55%|█████▍    | 329964/601937 [00:02<00:02, 133343.84it/s]\u001b[A\n",
      " 57%|█████▋    | 343784/601937 [00:02<00:01, 134764.13it/s]\u001b[A\n",
      " 59%|█████▉    | 357280/601937 [00:02<00:01, 133783.88it/s]\u001b[A\n",
      " 62%|██████▏   | 370674/601937 [00:02<00:01, 133098.18it/s]\u001b[A\n",
      " 64%|██████▍   | 384037/601937 [00:02<00:01, 133255.04it/s]\u001b[A\n",
      " 66%|██████▌   | 397371/601937 [00:02<00:01, 132986.58it/s]\u001b[A\n",
      " 68%|██████▊   | 410700/601937 [00:03<00:01, 133074.55it/s]\u001b[A\n",
      " 70%|███████   | 424012/601937 [00:03<00:01, 128218.53it/s]\u001b[A\n",
      " 73%|███████▎  | 437522/601937 [00:03<00:01, 130206.82it/s]\u001b[A\n",
      " 75%|███████▌  | 452184/601937 [00:03<00:01, 134731.29it/s]\u001b[A\n",
      " 77%|███████▋  | 465723/601937 [00:03<00:01, 131580.34it/s]\u001b[A\n",
      " 80%|███████▉  | 478943/601937 [00:03<00:00, 130690.95it/s]\u001b[A\n",
      " 82%|████████▏ | 494771/601937 [00:03<00:00, 137901.76it/s]\u001b[A\n",
      " 85%|████████▍ | 508700/601937 [00:03<00:00, 133716.88it/s]\u001b[A\n",
      " 87%|████████▋ | 522196/601937 [00:03<00:00, 132464.77it/s]\u001b[A\n",
      " 89%|████████▉ | 535533/601937 [00:04<00:00, 131023.59it/s]\u001b[A\n",
      " 91%|█████████ | 548702/601937 [00:04<00:00, 130947.99it/s]\u001b[A\n",
      " 93%|█████████▎| 561844/601937 [00:04<00:00, 130994.79it/s]\u001b[A\n",
      " 96%|█████████▌| 574976/601937 [00:04<00:00, 131061.52it/s]\u001b[A\n",
      " 98%|█████████▊| 588105/601937 [00:04<00:00, 130797.10it/s]\u001b[A\n",
      "100%|██████████| 601937/601937 [00:04<00:00, 133228.14it/s]\u001b[A\n"
     ]
    }
   ],
   "source": [
    "#Loading our labels\n",
    "coords1, chips1, classes1 = wv.get_labels(fdir+'xView_train.geojson')"
   ]
  },
  {
   "cell_type": "code",
   "execution_count": 13,
   "metadata": {},
   "outputs": [],
   "source": [
    "#We only want to coordinates and classes that are within our chip\n",
    "chip_name='104.tif'\n",
    "\n",
    "import glob\n",
    "all_images = glob.glob(fdir+'train_images/*.tif')"
   ]
  },
  {
   "cell_type": "code",
   "execution_count": 45,
   "metadata": {},
   "outputs": [
    {
     "name": "stderr",
     "output_type": "stream",
     "text": [
      "\n",
      "\n",
      "\n",
      "\n",
      "\n",
      "\n",
      "  0%|          | 0/846 [00:00<?, ?it/s]\u001b[A\u001b[A\u001b[A\u001b[A\u001b[A\u001b[A\n",
      "\n",
      "\n",
      "\n",
      "\n",
      "\n",
      "  0%|          | 1/846 [00:00<04:52,  2.89it/s]\u001b[A\u001b[A\u001b[A\u001b[A\u001b[A\u001b[A"
     ]
    },
    {
     "name": "stdout",
     "output_type": "stream",
     "text": [
      "Num Chips: 20\n"
     ]
    },
    {
     "name": "stderr",
     "output_type": "stream",
     "text": [
      "\n",
      "\n",
      "\n",
      "\n",
      "\n",
      "\n",
      "  0%|          | 2/846 [00:00<04:49,  2.92it/s]\u001b[A\u001b[A\u001b[A\u001b[A\u001b[A\u001b[A"
     ]
    },
    {
     "name": "stdout",
     "output_type": "stream",
     "text": [
      "Num Chips: 20\n"
     ]
    },
    {
     "name": "stderr",
     "output_type": "stream",
     "text": [
      "\n",
      "\n",
      "\n",
      "\n",
      "\n",
      "\n",
      "  0%|          | 3/846 [00:01<04:48,  2.92it/s]\u001b[A\u001b[A\u001b[A\u001b[A\u001b[A\u001b[A"
     ]
    },
    {
     "name": "stdout",
     "output_type": "stream",
     "text": [
      "Num Chips: 20\n"
     ]
    },
    {
     "name": "stderr",
     "output_type": "stream",
     "text": [
      "\n",
      "\n",
      "\n",
      "\n",
      "\n",
      "\n",
      "  0%|          | 4/846 [00:01<04:46,  2.94it/s]\u001b[A\u001b[A\u001b[A\u001b[A\u001b[A\u001b[A"
     ]
    },
    {
     "name": "stdout",
     "output_type": "stream",
     "text": [
      "Num Chips: 20\n"
     ]
    },
    {
     "name": "stderr",
     "output_type": "stream",
     "text": [
      "\n",
      "\n",
      "\n",
      "\n",
      "\n",
      "\n",
      "  1%|          | 5/846 [00:01<04:45,  2.95it/s]\u001b[A\u001b[A\u001b[A\u001b[A\u001b[A\u001b[A"
     ]
    },
    {
     "name": "stdout",
     "output_type": "stream",
     "text": [
      "Num Chips: 20\n"
     ]
    },
    {
     "name": "stderr",
     "output_type": "stream",
     "text": [
      "\n"
     ]
    }
   ],
   "source": [
    "#Load the class number -> class string label map\n",
    "labels = {}\n",
    "with open('xview_class_labels.txt') as f:\n",
    "    for row in csv.reader(f):\n",
    "        labels[int(row[0].split(\":\")[0])] = row[0].split(\":\")[1]\n",
    "        pass\n",
    "    pass\n",
    "\n",
    "i = 0\n",
    "for chip_name in tqdm.tqdm(all_images):\n",
    "    i+=1\n",
    "    if i > 1: break\n",
    "    chip_name = (chip_name.split(\"/\")[-1])\n",
    "    img_name = chip_name.split(\".\")[0]\n",
    "\n",
    "    coords = coords1[chips1==chip_name]\n",
    "    classes = classes1[chips1==chip_name].astype(np.int64)\n",
    "    \n",
    "    #We can find which classes are present in this image\n",
    "    #print([labels[i] for i in np.unique(classes)])\n",
    "\n",
    "    #We can chip the image into 500x500 chips\n",
    "    c_img, c_box, c_cls = wv.chip_image(img = arr, coords= coords, \n",
    "                                        classes=classes, shape=(600,600))\n",
    "    print(\"Num Chips: %d\" % c_img.shape[0])\n",
    "    for c_idx in (range(c_img.shape[0])):\n",
    "        # Save the chipped image\n",
    "        c_name = \"{:07}_{:02}\".format(int(img_name), c_idx)\n",
    "        img = Image.fromarray(c_img[c_idx])\n",
    "        ff_i = \"{}images/{}.jpg\".format(cdir,c_name)\n",
    "        img.save(ff_i)\n",
    "\n",
    "        # Save the chipped label\n",
    "        widths = c_box[c_idx][:,2]-c_box[c_idx][:,0]\n",
    "        x = c_box[c_idx][:,0]+(widths/2)\n",
    "\n",
    "        heights = c_box[c_idx][:,3]-c_box[c_idx][:,1]\n",
    "        y = c_box[c_idx][:,1]+(heights/2)\n",
    "\n",
    "        szx = c_img[c_idx].shape[0]\n",
    "        szy = c_img[c_idx].shape[1]\n",
    "        nwidths,nheights = widths/szx, heights/szy\n",
    "        nx,ny = x/szx, y/szy\n",
    "\n",
    "        nheights = np.round(nheights,6)\n",
    "        nwidths = np.round(nwidths,6)\n",
    "        nx,ny = np.round(nx,6),np.round(ny,6)\n",
    "\n",
    "        h_cls = c_cls[c_idx]\n",
    "        data_labels = np.vstack((h_cls,nx,ny,nwidths,nheights)).T\n",
    "        # Select only valid labels\n",
    "        y_valid = np.logical_and(nx-nwidths > 0.1,nx+nwidths < 0.9)\n",
    "        x_valid = np.logical_and(ny-nheights > 0.1,ny+nheights < 0.9)\n",
    "        valid = np.logical_and(x_valid,y_valid)\n",
    "        data_labels = data_labels[valid,:]\n",
    "        ff_l = \"{}labels/{}.txt\".format(cdir,c_name)\n",
    "        np.savetxt(ff_l, data_labels, fmt='%i %1.6f %1.6f %1.6f %1.6f')\n"
   ]
  },
  {
   "cell_type": "code",
   "execution_count": 46,
   "metadata": {},
   "outputs": [],
   "source": [
    "lines = glob.glob(\"/data/zjc4/chipped/train/images/*\")\n",
    "with open('/data/zjc4/chipped/xview_img.txt', mode='w', encoding='utf-8') as myfile:\n",
    "    myfile.write('\\n'.join(lines))"
   ]
  },
  {
   "cell_type": "raw",
   "metadata": {},
   "source": [
    "python3 simrdwn.py --train_data_dir /data/zjc4/chipped_images/train/labels --train_data_dir "
   ]
  }
 ],
 "metadata": {
  "kernelspec": {
   "display_name": "Python 3",
   "language": "python",
   "name": "python3"
  },
  "language_info": {
   "codemirror_mode": {
    "name": "ipython",
    "version": 3
   },
   "file_extension": ".py",
   "mimetype": "text/x-python",
   "name": "python",
   "nbconvert_exporter": "python",
   "pygments_lexer": "ipython3",
   "version": "3.6.9"
  }
 },
 "nbformat": 4,
 "nbformat_minor": 4
}
